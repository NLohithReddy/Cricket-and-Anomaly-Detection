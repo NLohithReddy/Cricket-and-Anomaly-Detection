{
  "nbformat": 4,
  "nbformat_minor": 0,
  "metadata": {
    "colab": {
      "private_outputs": true,
      "provenance": [],
      "authorship_tag": "ABX9TyNAqdCfHAQI2H1zd6ddvNek",
      "include_colab_link": true
    },
    "kernelspec": {
      "name": "python3",
      "display_name": "Python 3"
    },
    "language_info": {
      "name": "python"
    }
  },
  "cells": [
    {
      "cell_type": "markdown",
      "metadata": {
        "id": "view-in-github",
        "colab_type": "text"
      },
      "source": [
        "<a href=\"https://colab.research.google.com/github/NLohithReddy/Cricket-and-Anomaly-Detection/blob/main/cricket_anomaly_detection.ipynb\" target=\"_parent\"><img src=\"https://colab.research.google.com/assets/colab-badge.svg\" alt=\"Open In Colab\"/></a>"
      ]
    },
    {
      "cell_type": "code",
      "source": [
        "import pandas as pd\n",
        "from sklearn.ensemble import IsolationForest\n",
        "import numpy as np\n",
        "\n",
        "# Load the dataset from CSV\n",
        "dataset = pd.read_csv('cricket_scores.csv')\n",
        "\n",
        "# Assuming 'Overs' and 'Runs_Scored' are the columns in your dataset\n",
        "# Extract the 'Overs' and 'Runs_Scored' columns\n",
        "overs_scores = dataset[['Overs', 'Runs_Scored']]\n",
        "\n",
        "# Convert the Pandas DataFrame to a NumPy array\n",
        "data = overs_scores.to_numpy()\n",
        "\n",
        "# Create and fit the Isolation Forest model\n",
        "model = IsolationForest(contamination=0.1)  # Contamination is the expected proportion of anomalies\n",
        "model.fit(data)\n",
        "\n",
        "# Predict outliers/anomalies\n",
        "predictions = model.predict(data)\n",
        "\n",
        "# Print the predicted outliers (-1 indicates anomaly, 1 indicates normal)\n",
        "print(\"Predictions:\", predictions)\n",
        "\n",
        "# Get indices of anomalies\n",
        "anomaly_indices = np.where(predictions == -1)[0]\n",
        "print(\"Anomaly indices:\", anomaly_indices)\n",
        "\n",
        "# Display the anomalies\n",
        "print(\"Anomaly data:\")\n",
        "print(data[anomaly_indices])\n"
      ],
      "metadata": {
        "id": "B1I0iU9Njvr5"
      },
      "execution_count": null,
      "outputs": []
    }
  ]
}